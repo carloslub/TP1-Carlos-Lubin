{
 "cells": [
  {
   "cell_type": "code",
   "execution_count": 2,
   "id": "a1f09a74-b28a-4ee1-bf44-7ddd14b782da",
   "metadata": {},
   "outputs": [
    {
     "name": "stdout",
     "output_type": "stream",
     "text": [
      "11\n"
     ]
    }
   ],
   "source": [
    "def es_primo(num, n=2):\n",
    "    if n >= num:\n",
    "        ##print(num,\" Es primo\")\n",
    "        return True\n",
    "    elif num % n != 0:\n",
    "        return es_primo(num, n + 1)\n",
    "    else:\n",
    "        ##print(num,\" No es primo\", n, \"es divisor\")\n",
    "        return False\n",
    "        \n",
    "        \n",
    "def lista_num_primos(n):   \n",
    "    num=2\n",
    "    count=0\n",
    "    while count < n :\n",
    "        if es_primo(num):\n",
    "            count= count+1\n",
    "        if (count == n) :\n",
    "            print(num)\n",
    "        num= num+1\n",
    "    \n",
    "lista_num_primos(5)"
   ]
  }
 ],
 "metadata": {
  "kernelspec": {
   "display_name": "Python 3 (ipykernel)",
   "language": "python",
   "name": "python3"
  },
  "language_info": {
   "codemirror_mode": {
    "name": "ipython",
    "version": 3
   },
   "file_extension": ".py",
   "mimetype": "text/x-python",
   "name": "python",
   "nbconvert_exporter": "python",
   "pygments_lexer": "ipython3",
   "version": "3.12.4"
  }
 },
 "nbformat": 4,
 "nbformat_minor": 5
}
